{
  "cells": [
    {
      "cell_type": "markdown",
      "metadata": {
        "id": "view-in-github",
        "colab_type": "text"
      },
      "source": [
        "<a href=\"https://colab.research.google.com/github/Riteshzzz/BOOK-RECOMMENDATION-ENGINE-/blob/main/Assignment_For_Matching_Client_Data_with_LabReport_.ipynb\" target=\"_parent\"><img src=\"https://colab.research.google.com/assets/colab-badge.svg\" alt=\"Open In Colab\"/></a>"
      ]
    },
    {
      "cell_type": "code",
      "source": [],
      "metadata": {
        "id": "Lc-FwqTfXA4k"
      },
      "execution_count": null,
      "outputs": []
    },
    {
      "cell_type": "code",
      "execution_count": null,
      "metadata": {
        "colab": {
          "base_uri": "https://localhost:8080/"
        },
        "id": "16WVTdeYKoR5",
        "outputId": "c80c8097-424a-4278-b0d0-cbb167180135"
      },
      "outputs": [
        {
          "name": "stdout",
          "output_type": "stream",
          "text": [
            "Looking in indexes: https://pypi.org/simple, https://us-python.pkg.dev/colab-wheels/public/simple/\n",
            "Collecting tabula-py\n",
            "  Downloading tabula_py-2.5.1-py3-none-any.whl (12.0 MB)\n",
            "\u001b[K     |████████████████████████████████| 12.0 MB 4.6 MB/s \n",
            "\u001b[?25hCollecting distro\n",
            "  Downloading distro-1.7.0-py3-none-any.whl (20 kB)\n",
            "Requirement already satisfied: pandas>=0.25.3 in /usr/local/lib/python3.7/dist-packages (from tabula-py) (1.3.5)\n",
            "Requirement already satisfied: numpy in /usr/local/lib/python3.7/dist-packages (from tabula-py) (1.21.6)\n",
            "Requirement already satisfied: python-dateutil>=2.7.3 in /usr/local/lib/python3.7/dist-packages (from pandas>=0.25.3->tabula-py) (2.8.2)\n",
            "Requirement already satisfied: pytz>=2017.3 in /usr/local/lib/python3.7/dist-packages (from pandas>=0.25.3->tabula-py) (2022.2.1)\n",
            "Requirement already satisfied: six>=1.5 in /usr/local/lib/python3.7/dist-packages (from python-dateutil>=2.7.3->pandas>=0.25.3->tabula-py) (1.15.0)\n",
            "Installing collected packages: distro, tabula-py\n",
            "Successfully installed distro-1.7.0 tabula-py-2.5.1\n"
          ]
        }
      ],
      "source": [
        "!pip install tabula-py #We need java programming installed in your system for run this tabula Library"
      ]
    },
    {
      "cell_type": "code",
      "source": [
        "#"
      ],
      "metadata": {
        "id": "5sGgaTx4DOKo"
      },
      "execution_count": null,
      "outputs": []
    },
    {
      "cell_type": "markdown",
      "source": [
        "# Import Dependencies/Libraries:"
      ],
      "metadata": {
        "id": "l6ojcqWeDYK0"
      }
    },
    {
      "cell_type": "code",
      "execution_count": 69,
      "metadata": {
        "id": "blPnvnDjLUX6"
      },
      "outputs": [],
      "source": [
        "import tabula\n",
        "import pandas as pd"
      ]
    },
    {
      "cell_type": "markdown",
      "source": [
        "# Extract The Data From The Pdf"
      ],
      "metadata": {
        "id": "XhyEziT_DmRM"
      }
    },
    {
      "cell_type": "code",
      "execution_count": 70,
      "metadata": {
        "id": "ebVkntWBLf3t"
      },
      "outputs": [],
      "source": [
        "df = tabula.read_pdf('/content/GFX0202827-pages-2.pdf', pages = 1)"
      ]
    },
    {
      "cell_type": "code",
      "execution_count": 71,
      "metadata": {
        "colab": {
          "base_uri": "https://localhost:8080/"
        },
        "id": "MnVuKZkWiNju",
        "outputId": "c6bd06bc-bcd1-484c-d63e-c518887ad372"
      },
      "outputs": [
        {
          "output_type": "execute_result",
          "data": {
            "text/plain": [
              "[  PATIENT NAME JITENDER DAGAR\n",
              " 0  AGE (YEARS)             35\n",
              " 1  WEIGHT (KG)            142\n",
              " 2       GENDER           MALE\n",
              " 3  HEIGHT (CM)            178\n",
              " 4   PATIENT ID   VI2203092576\n",
              " 5      TEST ID       NMC-WL01,\n",
              "               SAMPLE TYPE                              SALIVA\n",
              " 0  SAMPLE COLLECTION DATE                          21/01/2022\n",
              " 1  REPORT GENERATION DATE                          12/03/2022\n",
              " 2    REFERRED BY (DOCTOR)  Vieroots Wellness Solution Pvt ltd\n",
              " 3  REFERRED BY (HOSPITAL)                                 N/A]"
            ]
          },
          "metadata": {},
          "execution_count": 71
        }
      ],
      "source": [
        "df"
      ]
    },
    {
      "cell_type": "markdown",
      "source": [
        "# Make a DataFrame For the GFX0202827 Report"
      ],
      "metadata": {
        "id": "t1Lr5rzqD2bP"
      }
    },
    {
      "cell_type": "code",
      "execution_count": 72,
      "metadata": {
        "colab": {
          "base_uri": "https://localhost:8080/",
          "height": 81
        },
        "id": "8-Z3RtjdiS5S",
        "outputId": "71db895c-50f1-4a6a-bb2f-a28dd9a861d8"
      },
      "outputs": [
        {
          "output_type": "execute_result",
          "data": {
            "text/plain": [
              "     PATIENTNAME AGE(YEARS) WEIGHT (KG) GENDER HEIGHT (CM)    PATIENT ID  \\\n",
              "0  ITENDER DAGAR         35         142   MALE         178  VI2203092576   \n",
              "\n",
              "    TEST ID SAMPLE TYPE SAMPLE COLLECTION DATE REPORT GENERATION DATE  \n",
              "0  NMC-WL01      SALIVA             21/01/2022             12/03/2022  "
            ],
            "text/html": [
              "\n",
              "  <div id=\"df-65c86422-a1ca-4642-b675-1be838ba68f7\">\n",
              "    <div class=\"colab-df-container\">\n",
              "      <div>\n",
              "<style scoped>\n",
              "    .dataframe tbody tr th:only-of-type {\n",
              "        vertical-align: middle;\n",
              "    }\n",
              "\n",
              "    .dataframe tbody tr th {\n",
              "        vertical-align: top;\n",
              "    }\n",
              "\n",
              "    .dataframe thead th {\n",
              "        text-align: right;\n",
              "    }\n",
              "</style>\n",
              "<table border=\"1\" class=\"dataframe\">\n",
              "  <thead>\n",
              "    <tr style=\"text-align: right;\">\n",
              "      <th></th>\n",
              "      <th>PATIENTNAME</th>\n",
              "      <th>AGE(YEARS)</th>\n",
              "      <th>WEIGHT (KG)</th>\n",
              "      <th>GENDER</th>\n",
              "      <th>HEIGHT (CM)</th>\n",
              "      <th>PATIENT ID</th>\n",
              "      <th>TEST ID</th>\n",
              "      <th>SAMPLE TYPE</th>\n",
              "      <th>SAMPLE COLLECTION DATE</th>\n",
              "      <th>REPORT GENERATION DATE</th>\n",
              "    </tr>\n",
              "  </thead>\n",
              "  <tbody>\n",
              "    <tr>\n",
              "      <th>0</th>\n",
              "      <td>ITENDER DAGAR</td>\n",
              "      <td>35</td>\n",
              "      <td>142</td>\n",
              "      <td>MALE</td>\n",
              "      <td>178</td>\n",
              "      <td>VI2203092576</td>\n",
              "      <td>NMC-WL01</td>\n",
              "      <td>SALIVA</td>\n",
              "      <td>21/01/2022</td>\n",
              "      <td>12/03/2022</td>\n",
              "    </tr>\n",
              "  </tbody>\n",
              "</table>\n",
              "</div>\n",
              "      <button class=\"colab-df-convert\" onclick=\"convertToInteractive('df-65c86422-a1ca-4642-b675-1be838ba68f7')\"\n",
              "              title=\"Convert this dataframe to an interactive table.\"\n",
              "              style=\"display:none;\">\n",
              "        \n",
              "  <svg xmlns=\"http://www.w3.org/2000/svg\" height=\"24px\"viewBox=\"0 0 24 24\"\n",
              "       width=\"24px\">\n",
              "    <path d=\"M0 0h24v24H0V0z\" fill=\"none\"/>\n",
              "    <path d=\"M18.56 5.44l.94 2.06.94-2.06 2.06-.94-2.06-.94-.94-2.06-.94 2.06-2.06.94zm-11 1L8.5 8.5l.94-2.06 2.06-.94-2.06-.94L8.5 2.5l-.94 2.06-2.06.94zm10 10l.94 2.06.94-2.06 2.06-.94-2.06-.94-.94-2.06-.94 2.06-2.06.94z\"/><path d=\"M17.41 7.96l-1.37-1.37c-.4-.4-.92-.59-1.43-.59-.52 0-1.04.2-1.43.59L10.3 9.45l-7.72 7.72c-.78.78-.78 2.05 0 2.83L4 21.41c.39.39.9.59 1.41.59.51 0 1.02-.2 1.41-.59l7.78-7.78 2.81-2.81c.8-.78.8-2.07 0-2.86zM5.41 20L4 18.59l7.72-7.72 1.47 1.35L5.41 20z\"/>\n",
              "  </svg>\n",
              "      </button>\n",
              "      \n",
              "  <style>\n",
              "    .colab-df-container {\n",
              "      display:flex;\n",
              "      flex-wrap:wrap;\n",
              "      gap: 12px;\n",
              "    }\n",
              "\n",
              "    .colab-df-convert {\n",
              "      background-color: #E8F0FE;\n",
              "      border: none;\n",
              "      border-radius: 50%;\n",
              "      cursor: pointer;\n",
              "      display: none;\n",
              "      fill: #1967D2;\n",
              "      height: 32px;\n",
              "      padding: 0 0 0 0;\n",
              "      width: 32px;\n",
              "    }\n",
              "\n",
              "    .colab-df-convert:hover {\n",
              "      background-color: #E2EBFA;\n",
              "      box-shadow: 0px 1px 2px rgba(60, 64, 67, 0.3), 0px 1px 3px 1px rgba(60, 64, 67, 0.15);\n",
              "      fill: #174EA6;\n",
              "    }\n",
              "\n",
              "    [theme=dark] .colab-df-convert {\n",
              "      background-color: #3B4455;\n",
              "      fill: #D2E3FC;\n",
              "    }\n",
              "\n",
              "    [theme=dark] .colab-df-convert:hover {\n",
              "      background-color: #434B5C;\n",
              "      box-shadow: 0px 1px 3px 1px rgba(0, 0, 0, 0.15);\n",
              "      filter: drop-shadow(0px 1px 2px rgba(0, 0, 0, 0.3));\n",
              "      fill: #FFFFFF;\n",
              "    }\n",
              "  </style>\n",
              "\n",
              "      <script>\n",
              "        const buttonEl =\n",
              "          document.querySelector('#df-65c86422-a1ca-4642-b675-1be838ba68f7 button.colab-df-convert');\n",
              "        buttonEl.style.display =\n",
              "          google.colab.kernel.accessAllowed ? 'block' : 'none';\n",
              "\n",
              "        async function convertToInteractive(key) {\n",
              "          const element = document.querySelector('#df-65c86422-a1ca-4642-b675-1be838ba68f7');\n",
              "          const dataTable =\n",
              "            await google.colab.kernel.invokeFunction('convertToInteractive',\n",
              "                                                     [key], {});\n",
              "          if (!dataTable) return;\n",
              "\n",
              "          const docLinkHtml = 'Like what you see? Visit the ' +\n",
              "            '<a target=\"_blank\" href=https://colab.research.google.com/notebooks/data_table.ipynb>data table notebook</a>'\n",
              "            + ' to learn more about interactive tables.';\n",
              "          element.innerHTML = '';\n",
              "          dataTable['output_type'] = 'display_data';\n",
              "          await google.colab.output.renderOutput(dataTable, element);\n",
              "          const docLink = document.createElement('div');\n",
              "          docLink.innerHTML = docLinkHtml;\n",
              "          element.appendChild(docLink);\n",
              "        }\n",
              "      </script>\n",
              "    </div>\n",
              "  </div>\n",
              "  "
            ]
          },
          "metadata": {},
          "execution_count": 72
        }
      ],
      "source": [
        "GFX0202827=pd.DataFrame({'PATIENTNAME':['ITENDER DAGAR'],'AGE(YEARS)':['35'],'WEIGHT (KG)': ['142'],'GENDER':['MALE'],'HEIGHT (CM)':['178'],'PATIENT ID': ['VI2203092576'],'TEST ID':['NMC-WL01'],'SAMPLE TYPE':['SALIVA'],'SAMPLE COLLECTION DATE':['21/01/2022'],'REPORT GENERATION DATE':['12/03/2022']})\n",
        "GFX0202827"
      ]
    },
    {
      "cell_type": "code",
      "execution_count": 73,
      "metadata": {
        "colab": {
          "base_uri": "https://localhost:8080/"
        },
        "id": "xyatEi-5o5xP",
        "outputId": "0fa311c8-86e1-42bd-bddd-9c66c7f296b2"
      },
      "outputs": [
        {
          "output_type": "execute_result",
          "data": {
            "text/plain": [
              "Index(['PATIENTNAME', 'AGE(YEARS)', 'WEIGHT (KG)', 'GENDER', 'HEIGHT (CM)',\n",
              "       'PATIENT ID', 'TEST ID', 'SAMPLE TYPE', 'SAMPLE COLLECTION DATE',\n",
              "       'REPORT GENERATION DATE'],\n",
              "      dtype='object')"
            ]
          },
          "metadata": {},
          "execution_count": 73
        }
      ],
      "source": [
        "GFX0202827.columns"
      ]
    },
    {
      "cell_type": "markdown",
      "source": [
        "# Make a DataFrame For Client Data:"
      ],
      "metadata": {
        "id": "FHVlFJErFWQv"
      }
    },
    {
      "cell_type": "code",
      "execution_count": 75,
      "metadata": {
        "id": "Sonu8zvKLf9j"
      },
      "outputs": [],
      "source": [
        "client_Data=pd.DataFrame({\"id\": [\"2\"],\n",
        "                         \"first_name\": [\"JITENDER\"], \n",
        "                         \"middle_name\": [\" \"], \n",
        "                         \"last_name\": [\"DAGAR\"],\n",
        "                         \"email\": [\"athulk@webandcrafts.in\"],\n",
        "                         \"country_code\": [\"+91\"],\n",
        "                         \"phone\": [\"9072482174\"],\n",
        "                         \"sex\": [\"male\"], \n",
        "                         \"country_id\":[\"1\"], \n",
        "                         \"language_id\": [\"1\"],\n",
        "                         \"dob\":[\"1999-10-02\"],\n",
        "                         \"height\": [\"178\"],\n",
        "                         \"weight\": [\"142\"], \n",
        "                         \"address\": [\"address\"], \n",
        "                         \"city\": [\"Thrissure\"], \n",
        "                         \"state\": [\"kerala\"], \n",
        "                         \"pincode\":[\"679865\"], \n",
        "                         \"blood_group\": [\"A+ve\"],\n",
        "                         \"ethnicity\":[\" \"], \n",
        "                         \"marital_status\": [\" \"],\n",
        "                         \"occupation\":[\" \"], \n",
        "                         \"longitude\":[\" \"],\n",
        "                         \"latitude\": [\" \"]})"
      ]
    },
    {
      "cell_type": "code",
      "execution_count": 76,
      "metadata": {
        "colab": {
          "base_uri": "https://localhost:8080/",
          "height": 174
        },
        "id": "WTIFiqbuLgAw",
        "outputId": "e95657f5-14ff-4687-c937-c5a7a5954c99"
      },
      "outputs": [
        {
          "output_type": "execute_result",
          "data": {
            "text/plain": [
              "  id first_name middle_name last_name                   email country_code  \\\n",
              "0  2   JITENDER                 DAGAR  athulk@webandcrafts.in          +91   \n",
              "\n",
              "        phone   sex country_id language_id  ...  address       city   state  \\\n",
              "0  9072482174  male          1           1  ...  address  Thrissure  kerala   \n",
              "\n",
              "  pincode blood_group ethnicity marital_status occupation longitude latitude  \n",
              "0  679865        A+ve                                                         \n",
              "\n",
              "[1 rows x 23 columns]"
            ],
            "text/html": [
              "\n",
              "  <div id=\"df-f9167365-81cb-40c0-bf34-d6e6f6cf8fbe\">\n",
              "    <div class=\"colab-df-container\">\n",
              "      <div>\n",
              "<style scoped>\n",
              "    .dataframe tbody tr th:only-of-type {\n",
              "        vertical-align: middle;\n",
              "    }\n",
              "\n",
              "    .dataframe tbody tr th {\n",
              "        vertical-align: top;\n",
              "    }\n",
              "\n",
              "    .dataframe thead th {\n",
              "        text-align: right;\n",
              "    }\n",
              "</style>\n",
              "<table border=\"1\" class=\"dataframe\">\n",
              "  <thead>\n",
              "    <tr style=\"text-align: right;\">\n",
              "      <th></th>\n",
              "      <th>id</th>\n",
              "      <th>first_name</th>\n",
              "      <th>middle_name</th>\n",
              "      <th>last_name</th>\n",
              "      <th>email</th>\n",
              "      <th>country_code</th>\n",
              "      <th>phone</th>\n",
              "      <th>sex</th>\n",
              "      <th>country_id</th>\n",
              "      <th>language_id</th>\n",
              "      <th>...</th>\n",
              "      <th>address</th>\n",
              "      <th>city</th>\n",
              "      <th>state</th>\n",
              "      <th>pincode</th>\n",
              "      <th>blood_group</th>\n",
              "      <th>ethnicity</th>\n",
              "      <th>marital_status</th>\n",
              "      <th>occupation</th>\n",
              "      <th>longitude</th>\n",
              "      <th>latitude</th>\n",
              "    </tr>\n",
              "  </thead>\n",
              "  <tbody>\n",
              "    <tr>\n",
              "      <th>0</th>\n",
              "      <td>2</td>\n",
              "      <td>JITENDER</td>\n",
              "      <td></td>\n",
              "      <td>DAGAR</td>\n",
              "      <td>athulk@webandcrafts.in</td>\n",
              "      <td>+91</td>\n",
              "      <td>9072482174</td>\n",
              "      <td>male</td>\n",
              "      <td>1</td>\n",
              "      <td>1</td>\n",
              "      <td>...</td>\n",
              "      <td>address</td>\n",
              "      <td>Thrissure</td>\n",
              "      <td>kerala</td>\n",
              "      <td>679865</td>\n",
              "      <td>A+ve</td>\n",
              "      <td></td>\n",
              "      <td></td>\n",
              "      <td></td>\n",
              "      <td></td>\n",
              "      <td></td>\n",
              "    </tr>\n",
              "  </tbody>\n",
              "</table>\n",
              "<p>1 rows × 23 columns</p>\n",
              "</div>\n",
              "      <button class=\"colab-df-convert\" onclick=\"convertToInteractive('df-f9167365-81cb-40c0-bf34-d6e6f6cf8fbe')\"\n",
              "              title=\"Convert this dataframe to an interactive table.\"\n",
              "              style=\"display:none;\">\n",
              "        \n",
              "  <svg xmlns=\"http://www.w3.org/2000/svg\" height=\"24px\"viewBox=\"0 0 24 24\"\n",
              "       width=\"24px\">\n",
              "    <path d=\"M0 0h24v24H0V0z\" fill=\"none\"/>\n",
              "    <path d=\"M18.56 5.44l.94 2.06.94-2.06 2.06-.94-2.06-.94-.94-2.06-.94 2.06-2.06.94zm-11 1L8.5 8.5l.94-2.06 2.06-.94-2.06-.94L8.5 2.5l-.94 2.06-2.06.94zm10 10l.94 2.06.94-2.06 2.06-.94-2.06-.94-.94-2.06-.94 2.06-2.06.94z\"/><path d=\"M17.41 7.96l-1.37-1.37c-.4-.4-.92-.59-1.43-.59-.52 0-1.04.2-1.43.59L10.3 9.45l-7.72 7.72c-.78.78-.78 2.05 0 2.83L4 21.41c.39.39.9.59 1.41.59.51 0 1.02-.2 1.41-.59l7.78-7.78 2.81-2.81c.8-.78.8-2.07 0-2.86zM5.41 20L4 18.59l7.72-7.72 1.47 1.35L5.41 20z\"/>\n",
              "  </svg>\n",
              "      </button>\n",
              "      \n",
              "  <style>\n",
              "    .colab-df-container {\n",
              "      display:flex;\n",
              "      flex-wrap:wrap;\n",
              "      gap: 12px;\n",
              "    }\n",
              "\n",
              "    .colab-df-convert {\n",
              "      background-color: #E8F0FE;\n",
              "      border: none;\n",
              "      border-radius: 50%;\n",
              "      cursor: pointer;\n",
              "      display: none;\n",
              "      fill: #1967D2;\n",
              "      height: 32px;\n",
              "      padding: 0 0 0 0;\n",
              "      width: 32px;\n",
              "    }\n",
              "\n",
              "    .colab-df-convert:hover {\n",
              "      background-color: #E2EBFA;\n",
              "      box-shadow: 0px 1px 2px rgba(60, 64, 67, 0.3), 0px 1px 3px 1px rgba(60, 64, 67, 0.15);\n",
              "      fill: #174EA6;\n",
              "    }\n",
              "\n",
              "    [theme=dark] .colab-df-convert {\n",
              "      background-color: #3B4455;\n",
              "      fill: #D2E3FC;\n",
              "    }\n",
              "\n",
              "    [theme=dark] .colab-df-convert:hover {\n",
              "      background-color: #434B5C;\n",
              "      box-shadow: 0px 1px 3px 1px rgba(0, 0, 0, 0.15);\n",
              "      filter: drop-shadow(0px 1px 2px rgba(0, 0, 0, 0.3));\n",
              "      fill: #FFFFFF;\n",
              "    }\n",
              "  </style>\n",
              "\n",
              "      <script>\n",
              "        const buttonEl =\n",
              "          document.querySelector('#df-f9167365-81cb-40c0-bf34-d6e6f6cf8fbe button.colab-df-convert');\n",
              "        buttonEl.style.display =\n",
              "          google.colab.kernel.accessAllowed ? 'block' : 'none';\n",
              "\n",
              "        async function convertToInteractive(key) {\n",
              "          const element = document.querySelector('#df-f9167365-81cb-40c0-bf34-d6e6f6cf8fbe');\n",
              "          const dataTable =\n",
              "            await google.colab.kernel.invokeFunction('convertToInteractive',\n",
              "                                                     [key], {});\n",
              "          if (!dataTable) return;\n",
              "\n",
              "          const docLinkHtml = 'Like what you see? Visit the ' +\n",
              "            '<a target=\"_blank\" href=https://colab.research.google.com/notebooks/data_table.ipynb>data table notebook</a>'\n",
              "            + ' to learn more about interactive tables.';\n",
              "          element.innerHTML = '';\n",
              "          dataTable['output_type'] = 'display_data';\n",
              "          await google.colab.output.renderOutput(dataTable, element);\n",
              "          const docLink = document.createElement('div');\n",
              "          docLink.innerHTML = docLinkHtml;\n",
              "          element.appendChild(docLink);\n",
              "        }\n",
              "      </script>\n",
              "    </div>\n",
              "  </div>\n",
              "  "
            ]
          },
          "metadata": {},
          "execution_count": 76
        }
      ],
      "source": [
        "client_Data"
      ]
    },
    {
      "cell_type": "code",
      "execution_count": 145,
      "metadata": {
        "colab": {
          "base_uri": "https://localhost:8080/"
        },
        "id": "IgL8EoWsr6Y3",
        "outputId": "06834220-4fe3-43e3-c53a-b02eed91417c"
      },
      "outputs": [
        {
          "output_type": "execute_result",
          "data": {
            "text/plain": [
              "Index(['id', 'first_name', 'middle_name', 'last_name', 'email', 'country_code',\n",
              "       'phone', 'sex', 'country_id', 'language_id', 'dob', 'height', 'weight',\n",
              "       'address', 'city', 'state', 'pincode', 'blood_group', 'ethnicity',\n",
              "       'marital_status', 'occupation', 'longitude', 'latitude'],\n",
              "      dtype='object')"
            ]
          },
          "metadata": {},
          "execution_count": 145
        }
      ],
      "source": [
        "client_Data.columns\n"
      ]
    },
    {
      "cell_type": "code",
      "source": [],
      "metadata": {
        "id": "gxdAj9laRAHJ"
      },
      "execution_count": null,
      "outputs": []
    },
    {
      "cell_type": "markdown",
      "source": [
        "# Required Attributes For Comparison:\n"
      ],
      "metadata": {
        "id": "fRW-MJDgOKgH"
      }
    },
    {
      "cell_type": "code",
      "execution_count": 64,
      "metadata": {
        "id": "vmluM5TUkQIC"
      },
      "outputs": [],
      "source": [
        "attributes1=['PATIENTNAME','AGE(YEARS)','WEIGHT (KG)','GENDER','HEIGHT (CM)']"
      ]
    },
    {
      "cell_type": "code",
      "execution_count": 65,
      "metadata": {
        "colab": {
          "base_uri": "https://localhost:8080/"
        },
        "id": "DAxVHA8pny-k",
        "outputId": "372044c8-6591-4662-9285-da4672696a44"
      },
      "outputs": [
        {
          "output_type": "stream",
          "name": "stdout",
          "text": [
            "[0    ITENDER DAGAR\n",
            "Name: PATIENTNAME, dtype: object]\n",
            "[0    35\n",
            "Name: AGE(YEARS), dtype: object]\n",
            "[0    142\n",
            "Name: WEIGHT (KG), dtype: object]\n",
            "[0    MALE\n",
            "Name: GENDER, dtype: object]\n",
            "[0    178\n",
            "Name: HEIGHT (CM), dtype: object]\n"
          ]
        }
      ],
      "source": [
        "for i in attributes1:\n",
        "    print([GFX0202827[i]])"
      ]
    },
    {
      "cell_type": "markdown",
      "source": [
        "# Comparison Using Loop With User Define Function:"
      ],
      "metadata": {
        "id": "R1fh6q4oPBGh"
      }
    },
    {
      "cell_type": "code",
      "execution_count": 132,
      "metadata": {
        "id": "Nz1ndrokj_6U"
      },
      "outputs": [],
      "source": [
        "def user_input(X):\n",
        "    for i in attributes1:\n",
        "        for j in X.columns:\n",
        "          if GFX0202827[i].equals(X[j]):\n",
        "            print([(i,j),'Matched'])\n",
        "          else:\n",
        "            print((i,j),'Not Matched')\n",
        "    return            \n"
      ]
    },
    {
      "cell_type": "markdown",
      "source": [
        "# Results:"
      ],
      "metadata": {
        "id": "SFFi6O3GPiec"
      }
    },
    {
      "cell_type": "code",
      "source": [
        "user_input(client_Data)"
      ],
      "metadata": {
        "colab": {
          "base_uri": "https://localhost:8080/"
        },
        "id": "znzBh7DhPoYX",
        "outputId": "58077565-df01-426a-8c0a-b2ac70946548"
      },
      "execution_count": 144,
      "outputs": [
        {
          "output_type": "stream",
          "name": "stdout",
          "text": [
            "('PATIENTNAME', 'id') Not Matched\n",
            "('PATIENTNAME', 'first_name') Not Matched\n",
            "('PATIENTNAME', 'middle_name') Not Matched\n",
            "('PATIENTNAME', 'last_name') Not Matched\n",
            "('PATIENTNAME', 'email') Not Matched\n",
            "('PATIENTNAME', 'country_code') Not Matched\n",
            "('PATIENTNAME', 'phone') Not Matched\n",
            "('PATIENTNAME', 'sex') Not Matched\n",
            "('PATIENTNAME', 'country_id') Not Matched\n",
            "('PATIENTNAME', 'language_id') Not Matched\n",
            "('PATIENTNAME', 'dob') Not Matched\n",
            "('PATIENTNAME', 'height') Not Matched\n",
            "('PATIENTNAME', 'weight') Not Matched\n",
            "('PATIENTNAME', 'address') Not Matched\n",
            "('PATIENTNAME', 'city') Not Matched\n",
            "('PATIENTNAME', 'state') Not Matched\n",
            "('PATIENTNAME', 'pincode') Not Matched\n",
            "('PATIENTNAME', 'blood_group') Not Matched\n",
            "('PATIENTNAME', 'ethnicity') Not Matched\n",
            "('PATIENTNAME', 'marital_status') Not Matched\n",
            "('PATIENTNAME', 'occupation') Not Matched\n",
            "('PATIENTNAME', 'longitude') Not Matched\n",
            "('PATIENTNAME', 'latitude') Not Matched\n",
            "('AGE(YEARS)', 'id') Not Matched\n",
            "('AGE(YEARS)', 'first_name') Not Matched\n",
            "('AGE(YEARS)', 'middle_name') Not Matched\n",
            "('AGE(YEARS)', 'last_name') Not Matched\n",
            "('AGE(YEARS)', 'email') Not Matched\n",
            "('AGE(YEARS)', 'country_code') Not Matched\n",
            "('AGE(YEARS)', 'phone') Not Matched\n",
            "('AGE(YEARS)', 'sex') Not Matched\n",
            "('AGE(YEARS)', 'country_id') Not Matched\n",
            "('AGE(YEARS)', 'language_id') Not Matched\n",
            "('AGE(YEARS)', 'dob') Not Matched\n",
            "('AGE(YEARS)', 'height') Not Matched\n",
            "('AGE(YEARS)', 'weight') Not Matched\n",
            "('AGE(YEARS)', 'address') Not Matched\n",
            "('AGE(YEARS)', 'city') Not Matched\n",
            "('AGE(YEARS)', 'state') Not Matched\n",
            "('AGE(YEARS)', 'pincode') Not Matched\n",
            "('AGE(YEARS)', 'blood_group') Not Matched\n",
            "('AGE(YEARS)', 'ethnicity') Not Matched\n",
            "('AGE(YEARS)', 'marital_status') Not Matched\n",
            "('AGE(YEARS)', 'occupation') Not Matched\n",
            "('AGE(YEARS)', 'longitude') Not Matched\n",
            "('AGE(YEARS)', 'latitude') Not Matched\n",
            "('WEIGHT (KG)', 'id') Not Matched\n",
            "('WEIGHT (KG)', 'first_name') Not Matched\n",
            "('WEIGHT (KG)', 'middle_name') Not Matched\n",
            "('WEIGHT (KG)', 'last_name') Not Matched\n",
            "('WEIGHT (KG)', 'email') Not Matched\n",
            "('WEIGHT (KG)', 'country_code') Not Matched\n",
            "('WEIGHT (KG)', 'phone') Not Matched\n",
            "('WEIGHT (KG)', 'sex') Not Matched\n",
            "('WEIGHT (KG)', 'country_id') Not Matched\n",
            "('WEIGHT (KG)', 'language_id') Not Matched\n",
            "('WEIGHT (KG)', 'dob') Not Matched\n",
            "('WEIGHT (KG)', 'height') Not Matched\n",
            "[('WEIGHT (KG)', 'weight'), 'Matched']\n",
            "('WEIGHT (KG)', 'address') Not Matched\n",
            "('WEIGHT (KG)', 'city') Not Matched\n",
            "('WEIGHT (KG)', 'state') Not Matched\n",
            "('WEIGHT (KG)', 'pincode') Not Matched\n",
            "('WEIGHT (KG)', 'blood_group') Not Matched\n",
            "('WEIGHT (KG)', 'ethnicity') Not Matched\n",
            "('WEIGHT (KG)', 'marital_status') Not Matched\n",
            "('WEIGHT (KG)', 'occupation') Not Matched\n",
            "('WEIGHT (KG)', 'longitude') Not Matched\n",
            "('WEIGHT (KG)', 'latitude') Not Matched\n",
            "('GENDER', 'id') Not Matched\n",
            "('GENDER', 'first_name') Not Matched\n",
            "('GENDER', 'middle_name') Not Matched\n",
            "('GENDER', 'last_name') Not Matched\n",
            "('GENDER', 'email') Not Matched\n",
            "('GENDER', 'country_code') Not Matched\n",
            "('GENDER', 'phone') Not Matched\n",
            "('GENDER', 'sex') Not Matched\n",
            "('GENDER', 'country_id') Not Matched\n",
            "('GENDER', 'language_id') Not Matched\n",
            "('GENDER', 'dob') Not Matched\n",
            "('GENDER', 'height') Not Matched\n",
            "('GENDER', 'weight') Not Matched\n",
            "('GENDER', 'address') Not Matched\n",
            "('GENDER', 'city') Not Matched\n",
            "('GENDER', 'state') Not Matched\n",
            "('GENDER', 'pincode') Not Matched\n",
            "('GENDER', 'blood_group') Not Matched\n",
            "('GENDER', 'ethnicity') Not Matched\n",
            "('GENDER', 'marital_status') Not Matched\n",
            "('GENDER', 'occupation') Not Matched\n",
            "('GENDER', 'longitude') Not Matched\n",
            "('GENDER', 'latitude') Not Matched\n",
            "('HEIGHT (CM)', 'id') Not Matched\n",
            "('HEIGHT (CM)', 'first_name') Not Matched\n",
            "('HEIGHT (CM)', 'middle_name') Not Matched\n",
            "('HEIGHT (CM)', 'last_name') Not Matched\n",
            "('HEIGHT (CM)', 'email') Not Matched\n",
            "('HEIGHT (CM)', 'country_code') Not Matched\n",
            "('HEIGHT (CM)', 'phone') Not Matched\n",
            "('HEIGHT (CM)', 'sex') Not Matched\n",
            "('HEIGHT (CM)', 'country_id') Not Matched\n",
            "('HEIGHT (CM)', 'language_id') Not Matched\n",
            "('HEIGHT (CM)', 'dob') Not Matched\n",
            "[('HEIGHT (CM)', 'height'), 'Matched']\n",
            "('HEIGHT (CM)', 'weight') Not Matched\n",
            "('HEIGHT (CM)', 'address') Not Matched\n",
            "('HEIGHT (CM)', 'city') Not Matched\n",
            "('HEIGHT (CM)', 'state') Not Matched\n",
            "('HEIGHT (CM)', 'pincode') Not Matched\n",
            "('HEIGHT (CM)', 'blood_group') Not Matched\n",
            "('HEIGHT (CM)', 'ethnicity') Not Matched\n",
            "('HEIGHT (CM)', 'marital_status') Not Matched\n",
            "('HEIGHT (CM)', 'occupation') Not Matched\n",
            "('HEIGHT (CM)', 'longitude') Not Matched\n",
            "('HEIGHT (CM)', 'latitude') Not Matched\n"
          ]
        }
      ]
    },
    {
      "cell_type": "markdown",
      "source": [
        "# Conclusion:"
      ],
      "metadata": {
        "id": "j5AZSFsMRqcF"
      }
    },
    {
      "cell_type": "markdown",
      "source": [
        "#### From above coparision we concluded that only the attributes of 'WEIGHT (KG)'and 'HEIGHT (CM) match with the GFX0202827 labreport ###\n"
      ],
      "metadata": {
        "id": "254y7j5PR0XK"
      }
    }
  ],
  "metadata": {
    "colab": {
      "provenance": [],
      "authorship_tag": "ABX9TyM7JEm/SXYmu3KOYi2vAoPN",
      "include_colab_link": true
    },
    "kernelspec": {
      "display_name": "Python 3",
      "name": "python3"
    },
    "language_info": {
      "name": "python"
    }
  },
  "nbformat": 4,
  "nbformat_minor": 0
}